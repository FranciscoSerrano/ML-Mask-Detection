{
 "cells": [
  {
   "cell_type": "markdown",
   "metadata": {},
   "source": [
    "# Data Preprocessing"
   ]
  },
  {
   "cell_type": "code",
   "execution_count": 3,
   "metadata": {},
   "outputs": [
    {
     "name": "stdout",
     "output_type": "stream",
     "text": [
      "{'with_mask': 0, 'without_mask': 1}\n",
      "['with_mask', 'without_mask']\n",
      "[0, 1]\n"
     ]
    }
   ],
   "source": [
    "# import dependancies\n",
    "import cv2\n",
    "import os\n",
    "import numpy as np\n",
    "from keras.utils import np_utils\n",
    "\n",
    "data_path='dataset'\n",
    "categories=os.listdir(data_path)\n",
    "labels=[i for i in range(len(categories))]\n",
    "\n",
    "label_dict=dict(zip(categories,labels)) #empty dictionary\n",
    "\n",
    "print(label_dict)\n",
    "print(categories)\n",
    "print(labels)"
   ]
  },
  {
   "cell_type": "code",
   "execution_count": 4,
   "metadata": {},
   "outputs": [],
   "source": [
    "img_size=100\n",
    "data=[]\n",
    "target=[]\n",
    "\n",
    "\n",
    "for category in categories:\n",
    "    folder_path=os.path.join(data_path,category)\n",
    "    img_names=os.listdir(folder_path)\n",
    "        \n",
    "    for img_name in img_names:\n",
    "        img_path=os.path.join(folder_path,img_name)\n",
    "        img=cv2.imread(img_path)\n",
    "\n",
    "        try:\n",
    "            #Coverting the image into gray scale\n",
    "            gray=cv2.cvtColor(img,cv2.COLOR_BGR2GRAY)           \n",
    "            #resizing the gray scale into 50x50, since we need a fixed common size for all the images in the dataset\n",
    "            resized=cv2.resize(gray,(img_size,img_size))\n",
    "            #appending the image and the label(categorized) into the list (dataset)\n",
    "            data.append(resized)\n",
    "            target.append(label_dict[category])\n",
    "            \n",
    "        except Exception as e:\n",
    "            #if any exception rasied, the exception will be printed here. And pass to the next image\n",
    "            print('Exception:',e)\n",
    "            "
   ]
  },
  {
   "cell_type": "code",
   "execution_count": 5,
   "metadata": {},
   "outputs": [],
   "source": [
    "# Create a numpy array to store data and target\n",
    "data=np.array(data)/255.0\n",
    "data=np.reshape(data,(data.shape[0],img_size,img_size,1))\n",
    "target=np.array(target)\n",
    "\n",
    "# use the keras utils tool to create catagorical target\n",
    "new_target=np_utils.to_categorical(target)"
   ]
  },
  {
   "cell_type": "code",
   "execution_count": 4,
   "metadata": {},
   "outputs": [],
   "source": [
    "np.save('numpy/data')\n",
    "np.save('numpy/target',new_target)"
   ]
  },
  {
   "cell_type": "markdown",
   "metadata": {},
   "source": [
    "# Training the Convolutional Neural Network"
   ]
  },
  {
   "cell_type": "code",
   "execution_count": 6,
   "metadata": {},
   "outputs": [],
   "source": [
    "#loading in the saved numpy arrays in the previous code\n",
    "\n",
    "data=np.load('numpy/data.npy')\n",
    "target=np.load('numpy/target.npy')\n"
   ]
  },
  {
   "cell_type": "code",
   "execution_count": 7,
   "metadata": {},
   "outputs": [],
   "source": [
    "from keras.models import Sequential\n",
    "from keras.layers import Dense,Activation,Flatten,Dropout\n",
    "from keras.layers import Conv2D,MaxPooling2D\n",
    "from keras.callbacks import ModelCheckpoint\n",
    "\n",
    "model=Sequential()\n",
    "#The first CNN layer followed by Relu and MaxPooling layers\n",
    "model.add(Conv2D(200,(3,3),input_shape=data.shape[1:]))\n",
    "model.add(Activation('relu'))\n",
    "model.add(MaxPooling2D(pool_size=(2,2)))\n",
    "\n",
    "#The second convolution layer followed by Relu and MaxPooling layers\n",
    "model.add(Conv2D(100,(3,3)))\n",
    "model.add(Activation('relu'))\n",
    "model.add(MaxPooling2D(pool_size=(2,2)))\n",
    "\n",
    "#Flatten layer to stack the output convolutions from second convolution layer\n",
    "model.add(Flatten())\n",
    "model.add(Dropout(0.5))\n",
    "\n",
    "#Dense layer of 64 neurons\n",
    "model.add(Dense(50,activation='relu'))\n",
    "#The Final layer with two outputs for two categories\n",
    "model.add(Dense(2,activation='softmax'))\n",
    "\n",
    "\n",
    "model.compile(loss='categorical_crossentropy',optimizer='adam',metrics=['accuracy'])"
   ]
  },
  {
   "cell_type": "code",
   "execution_count": 7,
   "metadata": {},
   "outputs": [],
   "source": [
    "from sklearn.model_selection import train_test_split\n",
    "\n",
    "# Use the train_test_split to split the data into training and testing set.\n",
    "# The data set isnt very large so only using 10% to test. \n",
    "train_data,test_data,train_target,test_target=train_test_split(data,target,test_size=0.1)"
   ]
  },
  {
   "cell_type": "code",
   "execution_count": 8,
   "metadata": {},
   "outputs": [
    {
     "name": "stdout",
     "output_type": "stream",
     "text": [
      "Epoch 1/20\n",
      "31/31 [==============================] - ETA: 0s - loss: 0.6985 - accuracy: 0.5394WARNING:tensorflow:From /Users/serrano/opt/anaconda3/lib/python3.7/site-packages/tensorflow/python/training/tracking/tracking.py:111: Model.state_updates (from tensorflow.python.keras.engine.training) is deprecated and will be removed in a future version.\n",
      "Instructions for updating:\n",
      "This property should not be used in TensorFlow 2.0, as updates are applied automatically.\n",
      "WARNING:tensorflow:From /Users/serrano/opt/anaconda3/lib/python3.7/site-packages/tensorflow/python/training/tracking/tracking.py:111: Layer.updates (from tensorflow.python.keras.engine.base_layer) is deprecated and will be removed in a future version.\n",
      "Instructions for updating:\n",
      "This property should not be used in TensorFlow 2.0, as updates are applied automatically.\n",
      "INFO:tensorflow:Assets written to: Model_Checkpoints/model-001.model/assets\n",
      "31/31 [==============================] - 21s 680ms/step - loss: 0.6985 - accuracy: 0.5394 - val_loss: 0.6280 - val_accuracy: 0.6935\n",
      "Epoch 2/20\n",
      "31/31 [==============================] - ETA: 0s - loss: 0.5490 - accuracy: 0.7525INFO:tensorflow:Assets written to: Model_Checkpoints/model-002.model/assets\n",
      "31/31 [==============================] - 22s 702ms/step - loss: 0.5490 - accuracy: 0.7525 - val_loss: 0.4289 - val_accuracy: 0.8065\n",
      "Epoch 3/20\n",
      "31/31 [==============================] - ETA: 0s - loss: 0.3598 - accuracy: 0.8596INFO:tensorflow:Assets written to: Model_Checkpoints/model-003.model/assets\n",
      "31/31 [==============================] - 23s 754ms/step - loss: 0.3598 - accuracy: 0.8596 - val_loss: 0.2674 - val_accuracy: 0.8750\n",
      "Epoch 4/20\n",
      "31/31 [==============================] - ETA: 0s - loss: 0.2404 - accuracy: 0.9081INFO:tensorflow:Assets written to: Model_Checkpoints/model-004.model/assets\n",
      "31/31 [==============================] - 22s 710ms/step - loss: 0.2404 - accuracy: 0.9081 - val_loss: 0.2217 - val_accuracy: 0.9032\n",
      "Epoch 5/20\n",
      "31/31 [==============================] - 21s 665ms/step - loss: 0.2124 - accuracy: 0.9172 - val_loss: 0.2984 - val_accuracy: 0.8790\n",
      "Epoch 6/20\n",
      "31/31 [==============================] - ETA: 0s - loss: 0.1766 - accuracy: 0.9374INFO:tensorflow:Assets written to: Model_Checkpoints/model-006.model/assets\n",
      "31/31 [==============================] - 22s 712ms/step - loss: 0.1766 - accuracy: 0.9374 - val_loss: 0.1501 - val_accuracy: 0.9556\n",
      "Epoch 7/20\n",
      "31/31 [==============================] - ETA: 0s - loss: 0.1246 - accuracy: 0.9606INFO:tensorflow:Assets written to: Model_Checkpoints/model-007.model/assets\n",
      "31/31 [==============================] - 21s 691ms/step - loss: 0.1246 - accuracy: 0.9606 - val_loss: 0.1436 - val_accuracy: 0.9435\n",
      "Epoch 8/20\n",
      "31/31 [==============================] - ETA: 0s - loss: 0.1176 - accuracy: 0.9616INFO:tensorflow:Assets written to: Model_Checkpoints/model-008.model/assets\n",
      "31/31 [==============================] - 21s 691ms/step - loss: 0.1176 - accuracy: 0.9616 - val_loss: 0.1331 - val_accuracy: 0.9476\n",
      "Epoch 9/20\n",
      "31/31 [==============================] - ETA: 0s - loss: 0.0880 - accuracy: 0.9687INFO:tensorflow:Assets written to: Model_Checkpoints/model-009.model/assets\n",
      "31/31 [==============================] - 22s 695ms/step - loss: 0.0880 - accuracy: 0.9687 - val_loss: 0.1310 - val_accuracy: 0.9476\n",
      "Epoch 10/20\n",
      "31/31 [==============================] - 21s 671ms/step - loss: 0.0744 - accuracy: 0.9788 - val_loss: 0.1445 - val_accuracy: 0.9435\n",
      "Epoch 11/20\n",
      "31/31 [==============================] - 20s 659ms/step - loss: 0.0616 - accuracy: 0.9798 - val_loss: 0.1339 - val_accuracy: 0.9476\n",
      "Epoch 12/20\n",
      "31/31 [==============================] - 20s 652ms/step - loss: 0.0561 - accuracy: 0.9848 - val_loss: 0.1342 - val_accuracy: 0.9556\n",
      "Epoch 13/20\n",
      "31/31 [==============================] - ETA: 0s - loss: 0.0565 - accuracy: 0.9869INFO:tensorflow:Assets written to: Model_Checkpoints/model-013.model/assets\n",
      "31/31 [==============================] - 21s 676ms/step - loss: 0.0565 - accuracy: 0.9869 - val_loss: 0.0985 - val_accuracy: 0.9718\n",
      "Epoch 14/20\n",
      "31/31 [==============================] - ETA: 0s - loss: 0.0378 - accuracy: 0.9859INFO:tensorflow:Assets written to: Model_Checkpoints/model-014.model/assets\n",
      "31/31 [==============================] - 21s 675ms/step - loss: 0.0378 - accuracy: 0.9859 - val_loss: 0.0969 - val_accuracy: 0.9677\n",
      "Epoch 15/20\n",
      "31/31 [==============================] - 20s 653ms/step - loss: 0.0339 - accuracy: 0.9919 - val_loss: 0.1096 - val_accuracy: 0.9597\n",
      "Epoch 16/20\n",
      "31/31 [==============================] - 20s 649ms/step - loss: 0.0272 - accuracy: 0.9919 - val_loss: 0.1247 - val_accuracy: 0.9677\n",
      "Epoch 17/20\n",
      "31/31 [==============================] - 20s 648ms/step - loss: 0.0426 - accuracy: 0.9848 - val_loss: 0.1674 - val_accuracy: 0.9476\n",
      "Epoch 18/20\n",
      "31/31 [==============================] - ETA: 0s - loss: 0.0249 - accuracy: 0.9899INFO:tensorflow:Assets written to: Model_Checkpoints/model-018.model/assets\n",
      "31/31 [==============================] - 21s 671ms/step - loss: 0.0249 - accuracy: 0.9899 - val_loss: 0.0911 - val_accuracy: 0.9677\n",
      "Epoch 19/20\n",
      "31/31 [==============================] - 20s 655ms/step - loss: 0.0233 - accuracy: 0.9929 - val_loss: 0.2837 - val_accuracy: 0.9355\n",
      "Epoch 20/20\n",
      "31/31 [==============================] - 20s 649ms/step - loss: 0.0200 - accuracy: 0.9929 - val_loss: 0.1835 - val_accuracy: 0.9355\n"
     ]
    }
   ],
   "source": [
    "checkpoint = ModelCheckpoint('Model_Checkpoints/model-{epoch:03d}.model',monitor='val_loss',verbose=0,save_best_only=True,mode='auto')\n",
    "history=model.fit(train_data,train_target,epochs=20,callbacks=[checkpoint],validation_split=0.2)"
   ]
  },
  {
   "cell_type": "code",
   "execution_count": 14,
   "metadata": {},
   "outputs": [
    {
     "data": {
      "image/png": "[encoded data removed]",
      "text/plain": [
       "<Figure size 432x288 with 1 Axes>"
      ]
     },
     "metadata": {
      "needs_background": "light"
     },
     "output_type": "display_data"
    },
    {
     "data": {
      "text/plain": [
       "<Figure size 432x288 with 0 Axes>"
      ]
     },
     "metadata": {},
     "output_type": "display_data"
    }
   ],
   "source": [
    "from matplotlib import pyplot as plt\n",
    "\n",
    "plt.plot(history.history['loss'],'r',label='Training Loss')\n",
    "plt.plot(history.history['val_loss'],label='Validation Loss')\n",
    "plt.xlabel('Number of Epochs')\n",
    "plt.ylabel('Loss')\n",
    "plt.legend()\n",
    "plt.savefig('resources/loss.png')\n",
    "plt.show()"
   ]
  },
  {
   "cell_type": "code",
   "execution_count": 15,
   "metadata": {},
   "outputs": [
    {
     "data": {
      "image/png": "[encoded data removed]",
      "text/plain": [
       "<Figure size 432x288 with 1 Axes>"
      ]
     },
     "metadata": {
      "needs_background": "light"
     },
     "output_type": "display_data"
    },
    {
     "data": {
      "text/plain": [
       "<Figure size 432x288 with 0 Axes>"
      ]
     },
     "metadata": {},
     "output_type": "display_data"
    }
   ],
   "source": [
    "plt.plot(history.history['accuracy'],'r',label='Training Accuracy')\n",
    "plt.plot(history.history['val_accuracy'],label='Validation Accuracy')\n",
    "plt.xlabel('Number of Epochs')\n",
    "plt.ylabel('Loss')\n",
    "plt.legend()\n",
    "plt.savefig('resources/accuracy.png')\n",
    "plt.show()"
   ]
  },
  {
   "cell_type": "code",
   "execution_count": 16,
   "metadata": {},
   "outputs": [
    {
     "name": "stdout",
     "output_type": "stream",
     "text": [
      "5/5 [==============================] - 1s 106ms/step - loss: 0.1363 - accuracy: 0.9420\n",
      "[0.13628549873828888, 0.9420289993286133]\n"
     ]
    }
   ],
   "source": [
    "print(model.evaluate(test_data,test_target))"
   ]
  },
  {
   "cell_type": "markdown",
   "metadata": {},
   "source": [
    "\n",
    "\n",
    "\n",
    "\n",
    "\n",
    "# Detecting Masks"
   ]
  },
  {
   "cell_type": "code",
   "execution_count": 1,
   "metadata": {},
   "outputs": [],
   "source": [
    "from keras.models import load_model\n",
    "import cv2\n",
    "\n",
    "# load in once of the well performing models from the checkpoints directory.\n",
    "model = load_model('Model_Checkpoints/model-014.model')\n",
    "# Load in the face detection classifier for CV2\n",
    "face_clsfr=cv2.CascadeClassifier('haarcascade_frontalface_default.xml')\n",
    "# Input of 0 refers to default webcam\n",
    "source=cv2.VideoCapture(0)\n",
    "\n",
    "# Label and color in RGB for the frame\n",
    "labels_dict={0:'THANK YOU!',1:'PUT MASK ON'}\n",
    "color_dict={0:(0,255,0),1:(0,0,255)}"
   ]
  },
  {
   "cell_type": "code",
   "execution_count": 2,
   "metadata": {},
   "outputs": [],
   "source": [
    "while(True):\n",
    "\n",
    "    ret,img=source.read()\n",
    "    gray=cv2.cvtColor(img,cv2.COLOR_BGR2GRAY)\n",
    "    faces=face_clsfr.detectMultiScale(gray,1.3,5)  \n",
    "\n",
    "    for (x,y,w,h) in faces:\n",
    "        \n",
    "        # Find face, resize the shape, pass into model\n",
    "        face_img=gray[y:y+w,x:x+w]\n",
    "        resized=cv2.resize(face_img,(100,100))\n",
    "        normalized=resized/255.0\n",
    "        reshaped=np.reshape(normalized,(1,100,100,1))\n",
    "        result=model.predict(reshaped)\n",
    "\n",
    "        label=np.argmax(result,axis=1)[0]\n",
    "        \n",
    "        # Draw the rectangle around the face of the person in frame\n",
    "        # Passed in the color and text dicts from the previous cell\n",
    "        cv2.rectangle(img,(x,y),(x+w,y+h),color_dict[label],2)\n",
    "        cv2.rectangle(img,(x,y-40),(x+w,y),color_dict[label],-1)\n",
    "        cv2.putText(img, labels_dict[label], (x, y-10),cv2.FONT_HERSHEY_SIMPLEX,0.8,(255,255,255),2)\n",
    "        \n",
    "        \n",
    "    cv2.imshow('LIVE',img)\n",
    "    key=cv2.waitKey(1)\n",
    "    \n",
    "    # if esc key is pressed break out of the loop\n",
    "    if(key==27):\n",
    "        break\n",
    "# Close video window        \n",
    "cv2.destroyAllWindows()\n",
    "source.release()"
   ]
  },
  {
   "cell_type": "code",
   "execution_count": null,
   "metadata": {},
   "outputs": [],
   "source": []
  },
  {
   "cell_type": "code",
   "execution_count": null,
   "metadata": {},
   "outputs": [],
   "source": []
  }
 ],
 "metadata": {
  "kernelspec": {
   "display_name": "Python 3",
   "language": "python",
   "name": "python3"
  },
  "language_info": {
   "codemirror_mode": {
    "name": "ipython",
    "version": 3
   },
   "file_extension": ".py",
   "mimetype": "text/x-python",
   "name": "python",
   "nbconvert_exporter": "python",
   "pygments_lexer": "ipython3",
   "version": "3.7.9"
  }
 },
 "nbformat": 4,
 "nbformat_minor": 4
}